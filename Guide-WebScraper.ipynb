{
 "cells": [
  {
   "cell_type": "code",
   "execution_count": 1,
   "metadata": {},
   "outputs": [],
   "source": [
    "import bs4\n",
    "from urllib.request import urlopen as uReq\n",
    "from bs4 import BeautifulSoup as soup\n",
    "from bs4.diagnose import diagnose\n",
    "\n",
    "\n",
    "# from package import library as alias\n",
    "\n",
    "# Url to be scraped\n",
    "my_url = \"https://guides.codepath.org/android\" "
   ]
  },
  {
   "cell_type": "code",
   "execution_count": 2,
   "metadata": {},
   "outputs": [],
   "source": [
    "# Downloads the site as a client\n",
    "# opening up connection, grabbing the page\n",
    "uClient = uReq(my_url)"
   ]
  },
  {
   "cell_type": "code",
   "execution_count": 3,
   "metadata": {},
   "outputs": [],
   "source": [
    "# Dumps everything, store before dumping\n",
    "page_html = uClient.read()\n",
    "# closes the connection to the site\n",
    "uClient.close()\n",
    "# html parsing\n",
    "page_soup = soup(page_html,\"html.parser\")"
   ]
  },
  {
   "cell_type": "code",
   "execution_count": 4,
   "metadata": {},
   "outputs": [],
   "source": [
    "# diagnose(my_url)"
   ]
  },
  {
   "cell_type": "code",
   "execution_count": 8,
   "metadata": {},
   "outputs": [
    {
     "name": "stdout",
     "output_type": "stream",
     "text": [
      "<h2><a class=\"anchor\" href=\"#motivation\" id=\"motivation\"><i class=\"fa fa-link\"></i></a>Motivation</h2>\n",
      "<h2><a class=\"anchor\" href=\"#overview\" id=\"overview\"><i class=\"fa fa-link\"></i></a>Overview</h2>\n",
      "<h2><a class=\"anchor\" href=\"#getting-started\" id=\"getting-started\"><i class=\"fa fa-link\"></i></a>Getting Started</h2>\n",
      "<h2><a class=\"anchor\" href=\"#structure\" id=\"structure\"><i class=\"fa fa-link\"></i></a>Structure</h2>\n",
      "<h2><a class=\"anchor\" href=\"#views-and-layouts\" id=\"views-and-layouts\"><i class=\"fa fa-link\"></i></a>Views and Layouts</h2>\n",
      "<h2><a class=\"anchor\" href=\"#interaction\" id=\"interaction\"><i class=\"fa fa-link\"></i></a>Interaction</h2>\n",
      "<h2><a class=\"anchor\" href=\"#navigation\" id=\"navigation\"><i class=\"fa fa-link\"></i></a>Navigation</h2>\n",
      "<h2><a class=\"anchor\" href=\"#networking-and-models\" id=\"networking-and-models\"><i class=\"fa fa-link\"></i></a>Networking and Models</h2>\n",
      "<h2><a class=\"anchor\" href=\"#persistence\" id=\"persistence\"><i class=\"fa fa-link\"></i></a>Persistence</h2>\n",
      "<h2><a class=\"anchor\" href=\"#images\" id=\"images\"><i class=\"fa fa-link\"></i></a>Images</h2>\n",
      "<h2><a class=\"anchor\" href=\"#fragments\" id=\"fragments\"><i class=\"fa fa-link\"></i></a>Fragments</h2>\n",
      "<h2><a class=\"anchor\" href=\"#sensors-and-device-sdks\" id=\"sensors-and-device-sdks\"><i class=\"fa fa-link\"></i></a>Sensors and Device SDKs</h2>\n",
      "<h2><a class=\"anchor\" href=\"#services\" id=\"services\"><i class=\"fa fa-link\"></i></a>Services</h2>\n",
      "<h2><a class=\"anchor\" href=\"#testing\" id=\"testing\"><i class=\"fa fa-link\"></i></a>Testing</h2>\n",
      "<h2><a class=\"anchor\" href=\"#libraries\" id=\"libraries\"><i class=\"fa fa-link\"></i></a>Libraries</h2>\n",
      "<h2><a class=\"anchor\" href=\"#production\" id=\"production\"><i class=\"fa fa-link\"></i></a>Production</h2>\n",
      "<h2><a class=\"anchor\" href=\"#workflow\" id=\"workflow\"><i class=\"fa fa-link\"></i></a>Workflow</h2>\n",
      "<h2><a class=\"anchor\" href=\"#contributing\" id=\"contributing\"><i class=\"fa fa-link\"></i></a>Contributing</h2>\n"
     ]
    }
   ],
   "source": [
    "# Soup finds all instances where a class is mentioned.\n",
    "\n",
    "# Preface\n",
    "# Codepath saves each new section as a new header <h2>. The paragraphs of each new section is not saved in a container, so \n",
    "# we need to parse until a new h2 is found, but, storing ANY paragraphs or uls that it encounters in their \n",
    "# appropriate new subsections.\n",
    "\n",
    "# In one loop we want to store each section, and under each section, store all the paragraps and the links that are in\n",
    "# that section. In total, we should have 12 new containers.\n",
    "\n",
    "for h2 in page_soup.findAll(\"h2\"): # Finds each new h2 tag/ new section\n",
    "#     headers = [a.text for a in h2.findAll(\"a\")]\n",
    "#     print(a.text)\n",
    "    print(h2)\n",
    "#     for p in page_soup.findAll(\"p\"):\n",
    "#         print(p.text)\n",
    "        \n",
    "        \n",
    "#     title_container = container.findAll(\"a\", {\"class\":\"item-title\"}) # Grabs the title \n",
    "#     product_name = title_container[0].text\n",
    "        \n",
    "# print(\"Done\")\n",
    "# print(\"c: \", c)\n",
    "# print(d)\n",
    "\n",
    "# print(container)\n",
    "# Current thoughts are to be able to do a while loop that will wait until the amount of h2s is 0. In the loop, parse\n",
    "# for paragraphs and unordered lists. Main issue is that multiple uls and ps will appear at each new header"
   ]
  },
  {
   "cell_type": "code",
   "execution_count": 13,
   "metadata": {},
   "outputs": [
    {
     "ename": "AttributeError",
     "evalue": "ResultSet object has no attribute 'div'. You're probably treating a list of elements like a single element. Did you call find_all() when you meant to call find()?",
     "output_type": "error",
     "traceback": [
      "\u001b[1;31m---------------------------------------------------------------------------\u001b[0m",
      "\u001b[1;31mAttributeError\u001b[0m                            Traceback (most recent call last)",
      "\u001b[1;32m<ipython-input-13-25c14359821d>\u001b[0m in \u001b[0;36m<module>\u001b[1;34m\u001b[0m\n\u001b[1;32m----> 1\u001b[1;33m \u001b[0mlink\u001b[0m \u001b[1;33m=\u001b[0m \u001b[0mcontainer\u001b[0m\u001b[1;33m.\u001b[0m\u001b[0mdiv\u001b[0m\u001b[1;33m.\u001b[0m\u001b[0mh2\u001b[0m\u001b[1;33m.\u001b[0m\u001b[0ma\u001b[0m\u001b[1;33m[\u001b[0m\u001b[1;34m\"href\"\u001b[0m\u001b[1;33m]\u001b[0m \u001b[1;31m# Grabs the link\u001b[0m\u001b[1;33m\u001b[0m\u001b[1;33m\u001b[0m\u001b[0m\n\u001b[0m\u001b[0;32m      2\u001b[0m \u001b[1;33m\u001b[0m\u001b[0m\n\u001b[0;32m      3\u001b[0m \u001b[1;31m# for container in containers:\u001b[0m\u001b[1;33m\u001b[0m\u001b[1;33m\u001b[0m\u001b[1;33m\u001b[0m\u001b[0m\n\u001b[0;32m      4\u001b[0m \u001b[1;31m#     print(links)\u001b[0m\u001b[1;33m\u001b[0m\u001b[1;33m\u001b[0m\u001b[1;33m\u001b[0m\u001b[0m\n",
      "\u001b[1;32m~\\anaconda3\\lib\\site-packages\\bs4\\element.py\u001b[0m in \u001b[0;36m__getattr__\u001b[1;34m(self, key)\u001b[0m\n\u001b[0;32m   2079\u001b[0m         \u001b[1;34m\"\"\"Raise a helpful exception to explain a common code fix.\"\"\"\u001b[0m\u001b[1;33m\u001b[0m\u001b[1;33m\u001b[0m\u001b[0m\n\u001b[0;32m   2080\u001b[0m         raise AttributeError(\n\u001b[1;32m-> 2081\u001b[1;33m             \u001b[1;34m\"ResultSet object has no attribute '%s'. You're probably treating a list of elements like a single element. Did you call find_all() when you meant to call find()?\"\u001b[0m \u001b[1;33m%\u001b[0m \u001b[0mkey\u001b[0m\u001b[1;33m\u001b[0m\u001b[1;33m\u001b[0m\u001b[0m\n\u001b[0m\u001b[0;32m   2082\u001b[0m         )\n",
      "\u001b[1;31mAttributeError\u001b[0m: ResultSet object has no attribute 'div'. You're probably treating a list of elements like a single element. Did you call find_all() when you meant to call find()?"
     ]
    }
   ],
   "source": [
    "link = container.div.h2.a[\"href\"] # Grabs the link\n",
    "\n",
    "# for container in containers:\n",
    "#     print(links)"
   ]
  },
  {
   "cell_type": "code",
   "execution_count": null,
   "metadata": {},
   "outputs": [],
   "source": []
  },
  {
   "cell_type": "code",
   "execution_count": 10,
   "metadata": {},
   "outputs": [
    {
     "data": {
      "text/plain": [
       "1"
      ]
     },
     "execution_count": 10,
     "metadata": {},
     "output_type": "execute_result"
    }
   ],
   "source": [
    "len(container)\n",
    "# len(h2s) # This is the exact amount of sections that will need to be saved\n",
    "# Save unordered lists\n",
    "# Save paragraphs\n"
   ]
  },
  {
   "cell_type": "code",
   "execution_count": 8,
   "metadata": {},
   "outputs": [
    {
     "data": {
      "text/plain": [
       "30"
      ]
     },
     "execution_count": 8,
     "metadata": {},
     "output_type": "execute_result"
    }
   ],
   "source": [
    "# Save data into a csv\n",
    "filename = \"sections.csv\"\n",
    "f = open(filename, \"w\") # opens the file to write\n",
    "\n",
    "headers = \"brand, product_name, shipping\\n\"\n",
    "f.write(headers) # passes by reference what to write to the file"
   ]
  },
  {
   "cell_type": "code",
   "execution_count": null,
   "metadata": {},
   "outputs": [],
   "source": []
  },
  {
   "cell_type": "code",
   "execution_count": 28,
   "metadata": {},
   "outputs": [
    {
     "ename": "NameError",
     "evalue": "name 'container' is not defined",
     "output_type": "error",
     "traceback": [
      "\u001b[1;31m---------------------------------------------------------------------------\u001b[0m",
      "\u001b[1;31mNameError\u001b[0m                                 Traceback (most recent call last)",
      "\u001b[1;32m<ipython-input-28-165f89936df8>\u001b[0m in \u001b[0;36m<module>\u001b[1;34m\u001b[0m\n\u001b[1;32m----> 1\u001b[1;33m \u001b[0mcontainer\u001b[0m\u001b[1;33m.\u001b[0m\u001b[0mfindAll\u001b[0m\u001b[1;33m(\u001b[0m\u001b[1;34m\"li\"\u001b[0m\u001b[1;33m,\u001b[0m \u001b[1;33m{\u001b[0m\u001b[1;34m\"class\"\u001b[0m\u001b[1;33m:\u001b[0m\u001b[1;34m\"price-ship\"\u001b[0m\u001b[1;33m}\u001b[0m\u001b[1;33m)\u001b[0m\u001b[1;33m\u001b[0m\u001b[1;33m\u001b[0m\u001b[0m\n\u001b[0m",
      "\u001b[1;31mNameError\u001b[0m: name 'container' is not defined"
     ]
    }
   ],
   "source": [
    "container.findAll(\"li\", {\"class\":\"price-ship\"})"
   ]
  },
  {
   "cell_type": "code",
   "execution_count": null,
   "metadata": {},
   "outputs": [],
   "source": []
  },
  {
   "cell_type": "code",
   "execution_count": null,
   "metadata": {},
   "outputs": [],
   "source": []
  }
 ],
 "metadata": {
  "kernelspec": {
   "display_name": "Python 3",
   "language": "python",
   "name": "python3"
  },
  "language_info": {
   "codemirror_mode": {
    "name": "ipython",
    "version": 3
   },
   "file_extension": ".py",
   "mimetype": "text/x-python",
   "name": "python",
   "nbconvert_exporter": "python",
   "pygments_lexer": "ipython3",
   "version": "3.7.6"
  }
 },
 "nbformat": 4,
 "nbformat_minor": 4
}
