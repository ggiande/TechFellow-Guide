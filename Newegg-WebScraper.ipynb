{
 "cells": [
  {
   "cell_type": "code",
<<<<<<< HEAD
   "execution_count": 19,
=======
   "execution_count": 17,
>>>>>>> 7a4415c123c5d2d72d92f475a0a9c7b24c70cf7e
   "metadata": {},
   "outputs": [],
   "source": [
    "import bs4\n",
    "from urllib.request import urlopen as uReq\n",
    "from bs4 import BeautifulSoup as soup\n",
    "# from package import library as alias\n",
    "\n",
    "# Url to be scraped\n",
    "my_url = \"https://www.newegg.com/Video-Cards-Video-Devices/Category/ID-38?Tpk=graphic+cards\""
   ]
  },
  {
   "cell_type": "code",
<<<<<<< HEAD
   "execution_count": 20,
=======
   "execution_count": 18,
>>>>>>> 7a4415c123c5d2d72d92f475a0a9c7b24c70cf7e
   "metadata": {},
   "outputs": [],
   "source": [
    "# Downloads the site as a client\n",
    "# opening up connection, grabbing the page\n",
    "uClient = uReq(my_url)"
   ]
  },
  {
   "cell_type": "code",
<<<<<<< HEAD
   "execution_count": 21,
=======
   "execution_count": 19,
>>>>>>> 7a4415c123c5d2d72d92f475a0a9c7b24c70cf7e
   "metadata": {
    "scrolled": true
   },
   "outputs": [],
   "source": [
    "# Dumps everything, store before dumping\n",
    "page_html = uClient.read()\n",
    "# closes the connection to the site\n",
    "uClient.close()\n",
    "# html parsing\n",
    "page_soup = soup(page_html,\"html.parser\")"
   ]
  },
  {
   "cell_type": "code",
<<<<<<< HEAD
   "execution_count": 22,
=======
   "execution_count": 20,
>>>>>>> 7a4415c123c5d2d72d92f475a0a9c7b24c70cf7e
   "metadata": {},
   "outputs": [],
   "source": [
    "# Soup finds all instances where \n",
    "containers = page_soup.findAll(\"div\", {\"class\":\"item-container\"})\n",
    "# Displays the first container and saves it as a variable\n",
    "container = containers[0]"
   ]
  },
  {
   "cell_type": "code",
<<<<<<< HEAD
   "execution_count": 23,
=======
   "execution_count": 21,
>>>>>>> 7a4415c123c5d2d72d92f475a0a9c7b24c70cf7e
   "metadata": {},
   "outputs": [],
   "source": [
    "# page_soup.body.span\n",
    "# len(containers)"
   ]
  },
  {
   "cell_type": "code",
<<<<<<< HEAD
   "execution_count": 24,
=======
   "execution_count": 22,
>>>>>>> 7a4415c123c5d2d72d92f475a0a9c7b24c70cf7e
   "metadata": {},
   "outputs": [
    {
     "data": {
      "text/plain": [
       "30"
      ]
     },
<<<<<<< HEAD
     "execution_count": 24,
=======
     "execution_count": 22,
>>>>>>> 7a4415c123c5d2d72d92f475a0a9c7b24c70cf7e
     "metadata": {},
     "output_type": "execute_result"
    }
   ],
   "source": [
    "# Save data into a csv\n",
    "filename = \"product.csv\"\n",
    "f = open(filename, \"w\") # opens the file to write\n",
    "\n",
    "headers = \"brand, product_name, shipping\\n\"\n",
    "f.write(headers) # passes by reference what to write to the file"
   ]
  },
  {
   "cell_type": "code",
<<<<<<< HEAD
   "execution_count": 25,
   "metadata": {},
   "outputs": [],
=======
   "execution_count": 23,
   "metadata": {},
   "outputs": [
    {
     "ename": "AttributeError",
     "evalue": "'NoneType' object has no attribute 'a'",
     "output_type": "error",
     "traceback": [
      "\u001b[1;31m---------------------------------------------------------------------------\u001b[0m",
      "\u001b[1;31mAttributeError\u001b[0m                            Traceback (most recent call last)",
      "\u001b[1;32m<ipython-input-23-335b5ca6c1bc>\u001b[0m in \u001b[0;36m<module>\u001b[1;34m\u001b[0m\n\u001b[0;32m      2\u001b[0m \u001b[1;32mfor\u001b[0m \u001b[0mcontainer\u001b[0m \u001b[1;32min\u001b[0m \u001b[0mcontainers\u001b[0m\u001b[1;33m:\u001b[0m\u001b[1;33m\u001b[0m\u001b[1;33m\u001b[0m\u001b[0m\n\u001b[0;32m      3\u001b[0m \u001b[1;33m\u001b[0m\u001b[0m\n\u001b[1;32m----> 4\u001b[1;33m     \u001b[0mbrand\u001b[0m \u001b[1;33m=\u001b[0m \u001b[0mcontainer\u001b[0m\u001b[1;33m.\u001b[0m\u001b[0mdiv\u001b[0m\u001b[1;33m.\u001b[0m\u001b[0mdiv\u001b[0m\u001b[1;33m.\u001b[0m\u001b[0ma\u001b[0m\u001b[1;33m.\u001b[0m\u001b[0mimg\u001b[0m\u001b[1;33m[\u001b[0m\u001b[1;34m\"title\"\u001b[0m\u001b[1;33m]\u001b[0m \u001b[1;31m# Grabs the brand\u001b[0m\u001b[1;33m\u001b[0m\u001b[1;33m\u001b[0m\u001b[0m\n\u001b[0m\u001b[0;32m      5\u001b[0m \u001b[1;33m\u001b[0m\u001b[0m\n\u001b[0;32m      6\u001b[0m     \u001b[0mtitle_container\u001b[0m \u001b[1;33m=\u001b[0m \u001b[0mcontainer\u001b[0m\u001b[1;33m.\u001b[0m\u001b[0mfindAll\u001b[0m\u001b[1;33m(\u001b[0m\u001b[1;34m\"a\"\u001b[0m\u001b[1;33m,\u001b[0m \u001b[1;33m{\u001b[0m\u001b[1;34m\"class\"\u001b[0m\u001b[1;33m:\u001b[0m\u001b[1;34m\"item-title\"\u001b[0m\u001b[1;33m}\u001b[0m\u001b[1;33m)\u001b[0m \u001b[1;31m# Grabs the title\u001b[0m\u001b[1;33m\u001b[0m\u001b[1;33m\u001b[0m\u001b[0m\n",
      "\u001b[1;31mAttributeError\u001b[0m: 'NoneType' object has no attribute 'a'"
     ]
    }
   ],
>>>>>>> 7a4415c123c5d2d72d92f475a0a9c7b24c70cf7e
   "source": [
    "# Grabs content inside the container and parses \n",
    "for container in containers:\n",
    "    \n",
    "    brand = container.div.div.a.img[\"title\"] # Grabs the brand\n",
    "    \n",
    "    title_container = container.findAll(\"a\", {\"class\":\"item-title\"}) # Grabs the title \n",
    "    product_name = title_container[0].text\n",
    "    \n",
    "    shipping_container = container.findAll(\"li\", {\"class\":\"price-ship\"}) # Grabs the price \n",
    "    shipping = shipping_container[0].text.strip()\n",
    "    \n",
    "    f.write(brand + \",\" + product_name.replace(\",\", \"|\") + \",\" + shipping + \"\\n\") # Writes to the file\n",
    "\n",
    "#     Printing for debbugging\n",
    "#     print(\"brand: \" + brand)\n",
    "#     print(\"product name: \" + product_name)\n",
    "#     print(\"shipping: \" + shipping)\n",
    "#     print()\n",
    "f.close() # close the file"
   ]
  },
  {
   "cell_type": "code",
<<<<<<< HEAD
   "execution_count": 26,
=======
   "execution_count": 24,
>>>>>>> 7a4415c123c5d2d72d92f475a0a9c7b24c70cf7e
   "metadata": {},
   "outputs": [
    {
     "data": {
      "text/plain": [
<<<<<<< HEAD
       "[<li class=\"price-ship\">Free Shipping</li>]"
      ]
     },
     "execution_count": 26,
=======
       "[<li class=\"price-ship\">\n",
       "         Free Shipping\n",
       "     </li>]"
      ]
     },
     "execution_count": 24,
>>>>>>> 7a4415c123c5d2d72d92f475a0a9c7b24c70cf7e
     "metadata": {},
     "output_type": "execute_result"
    }
   ],
   "source": [
    "container.findAll(\"li\", {\"class\":\"price-ship\"})"
   ]
  },
  {
   "cell_type": "code",
<<<<<<< HEAD
   "execution_count": 29,
   "metadata": {},
   "outputs": [
    {
     "data": {
      "text/plain": [
       "6"
      ]
     },
     "execution_count": 29,
     "metadata": {},
     "output_type": "execute_result"
=======
   "execution_count": 16,
   "metadata": {},
   "outputs": [
    {
     "ename": "AttributeError",
     "evalue": "'NoneType' object has no attribute 'a'",
     "output_type": "error",
     "traceback": [
      "\u001b[1;31m---------------------------------------------------------------------------\u001b[0m",
      "\u001b[1;31mAttributeError\u001b[0m                            Traceback (most recent call last)",
      "\u001b[1;32m<ipython-input-16-edf0988b786c>\u001b[0m in \u001b[0;36m<module>\u001b[1;34m\u001b[0m\n\u001b[1;32m----> 1\u001b[1;33m \u001b[0mbrand\u001b[0m \u001b[1;33m=\u001b[0m \u001b[0mcontainer\u001b[0m\u001b[1;33m.\u001b[0m\u001b[0mdiv\u001b[0m\u001b[1;33m.\u001b[0m\u001b[0mdiv\u001b[0m\u001b[1;33m.\u001b[0m\u001b[0ma\u001b[0m\u001b[1;33m.\u001b[0m\u001b[0mimg\u001b[0m\u001b[1;33m[\u001b[0m\u001b[1;34m\"title\"\u001b[0m\u001b[1;33m]\u001b[0m \u001b[1;31m# Grabs the brand\u001b[0m\u001b[1;33m\u001b[0m\u001b[1;33m\u001b[0m\u001b[0m\n\u001b[0m\u001b[0;32m      2\u001b[0m \u001b[0mlen\u001b[0m\u001b[1;33m(\u001b[0m\u001b[0mbrand\u001b[0m\u001b[1;33m)\u001b[0m\u001b[1;33m\u001b[0m\u001b[1;33m\u001b[0m\u001b[0m\n\u001b[0;32m      3\u001b[0m \u001b[0mprint\u001b[0m\u001b[1;33m(\u001b[0m\u001b[0mbrand\u001b[0m\u001b[1;33m)\u001b[0m\u001b[1;33m\u001b[0m\u001b[1;33m\u001b[0m\u001b[0m\n",
      "\u001b[1;31mAttributeError\u001b[0m: 'NoneType' object has no attribute 'a'"
     ]
>>>>>>> 7a4415c123c5d2d72d92f475a0a9c7b24c70cf7e
    }
   ],
   "source": [
    "brand = container.div.div.a.img[\"title\"] # Grabs the brand\n",
<<<<<<< HEAD
    "len(brand)"
=======
    "len(brand)\n",
    "print(brand)"
>>>>>>> 7a4415c123c5d2d72d92f475a0a9c7b24c70cf7e
   ]
  },
  {
   "cell_type": "code",
<<<<<<< HEAD
   "execution_count": 30,
   "metadata": {},
   "outputs": [
    {
     "name": "stdout",
     "output_type": "stream",
     "text": [
      "<div class=\"item-container\"><a class=\"item-img\" href=\"https://www.newegg.com/asrock-radeon-rx-5500-xt-rx5500xt-cld-4go/p/N82E16814930026?Item=N82E16814930026\"><img alt=\"ASRock Challenger D Radeon RX 5500 XT DirectX 12 RX5500XT CLD 4GO 4GB 128-Bit GDDR6 PCI Express 4.0 x8 HDCP Ready Video Card\" src=\"https://c1.neweggimages.com/ProductImageCompressAll300/14-930-026-V03.jpg\" title=\"ASRock Challenger D Radeon RX 5500 XT DirectX 12 RX5500XT CLD 4GO 4GB 128-Bit GDDR6 PCI Express 4.0 x8 HDCP Ready Video Card\"/></a><div class=\"item-info\"><div class=\"item-branding\"><a class=\"item-brand\" href=\"https://www.newegg.com/ASRock/BrandStore/ID-1944\"><img alt=\"ASRock\" src=\"https://c1.neweggimages.com/Brandimage_70x28/Brand1944.gif\" title=\"ASRock\"/></a><a class=\"item-rating\" href=\"https://www.newegg.com/asrock-radeon-rx-5500-xt-rx5500xt-cld-4go/p/N82E16814930026?Item=N82E16814930026&amp;IsFeedbackTab=true#scrollFullInfo\" title=\"Rating + 4\"><i class=\"rating rating-4\"></i><span class=\"item-rating-num\">(3)</span></a></div><a class=\"item-title\" href=\"https://www.newegg.com/asrock-radeon-rx-5500-xt-rx5500xt-cld-4go/p/N82E16814930026?Item=N82E16814930026\" title=\"View Details\">ASRock Challenger D Radeon RX 5500 XT DirectX 12 RX5500XT CLD 4GO Video Card</a><ul class=\"item-features\"><li><strong>Core Clock:</strong> 1685 MHz</li><li><strong>Max Resolution:</strong> 7680 x 4320</li><li><strong>DisplayPort:</strong> 3 x DisplayPort 1.4</li><li><strong>HDMI:</strong> 1 x HDMI 2.0b</li><li><strong>Model #: </strong>RX5500XT CLD 4GO</li><li><strong>Item #: </strong>N82E16814930026</li><li><strong>Return Policy: </strong><a href=\"https://kb.newegg.com/Article/Index/12/3?id=1167#44\" target=\"_blank\" title=\"Standard Return Policy(New Window)\">Standard Return Policy</a></li></ul></div><div class=\"item-action\"><ul class=\"price\"><li class=\"price-was\"></li><li class=\"price-map\"> </li><li class=\"price-current\"><span class=\"price-current-label\"></span>$<strong>179</strong><sup>.99</sup> <span class=\"price-current-range\"><abbr title=\"to\">–</abbr></span></li><li class=\"price-save\"></li><li class=\"price-note\"></li><li class=\"price-ship\">Free Shipping</li></ul><div class=\"item-operate hidden-action-button\"><div class=\"item-button-area\"><button class=\"btn btn-primary btn-mini\" title=\"Add ASRock Challenger D Radeon RX 5500 XT DirectX 12 RX5500XT CLD 4GO 4GB 128-Bit GDDR6 PCI Express 4.0 x8 HDCP Ready Video Card to cart\">Add to cart <i class=\"fas fa-caret-right\"></i></button></div><div class=\"item-compare-box\"><label class=\"form-checkbox\"><input autocomplete=\"off\" type=\"checkbox\"/><span class=\"form-checkbox-title\">Compare</span></label></div><div class=\"popover left popover-compare\" style=\"position:absolute;top:0;left:0;opacity:0;pointer-events:none;display:none\"><div class=\"popover-title\">Selected Items</div><i class=\"popover-arrow compare\"></i><div class=\"popover-body\"></div><div class=\"popover-btn-area\"><div class=\"popover-compare-btn-normal\"><button class=\"btn btn-mini btn-tertiary\">EDIT</button><button class=\"btn btn-mini btn-secondary\">COMPARE</button></div></div></div></div></div><div class=\"item-stock\" id=\"stock_14-930-026\"></div></div>\n"
     ]
    }
   ],
   "source": [
    "print(container)"
=======
   "execution_count": 15,
   "metadata": {},
   "outputs": [],
   "source": [
    "# print(container)"
>>>>>>> 7a4415c123c5d2d72d92f475a0a9c7b24c70cf7e
   ]
  },
  {
   "cell_type": "code",
   "execution_count": null,
   "metadata": {},
   "outputs": [],
   "source": []
  }
 ],
 "metadata": {
  "kernelspec": {
   "display_name": "Python 3",
   "language": "python",
   "name": "python3"
  },
  "language_info": {
   "codemirror_mode": {
    "name": "ipython",
    "version": 3
   },
   "file_extension": ".py",
   "mimetype": "text/x-python",
   "name": "python",
   "nbconvert_exporter": "python",
   "pygments_lexer": "ipython3",
   "version": "3.7.6"
  }
 },
 "nbformat": 4,
 "nbformat_minor": 4
}
